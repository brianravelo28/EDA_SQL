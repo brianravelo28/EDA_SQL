{
 "cells": [
  {
   "cell_type": "code",
   "execution_count": null,
   "id": "c3ea68b0",
   "metadata": {},
   "outputs": [],
   "source": [
    "# what'sgoing on...\n",
    "\n",
    "# XAMPP can only upload a file of 40mb at a time and it's not grwat at parsing the data\n",
    "# gotta clean it in python and then upload with sqlalchemy\n",
    "# release date column is a string, need to format it correctly in python before inserting\n"
   ]
  },
  {
   "cell_type": "code",
   "execution_count": 1,
   "id": "7b40d9ca",
   "metadata": {},
   "outputs": [],
   "source": [
    "# import libraries\n",
    "\n",
    "import numpy as np\n",
    "from math import pi\n",
    "import pandas as pd\n",
    "from sqlalchemy import create_engine, Column, select, Integer, Text, MetaData, Table, String, Date, ForeignKey, DateTime, Float\n",
    "\n",
    "pd.set_option('display.max_columns', False)\n",
    "pd.set_option('display.max_rows', False)\n",
    "\n",
    "\n",
    "engine = create_engine('mysql://root:@localhost/movies_db', echo=False)\n",
    "metadata = MetaData()"
   ]
  },
  {
   "cell_type": "code",
   "execution_count": 2,
   "id": "008d75d0",
   "metadata": {
    "scrolled": false
   },
   "outputs": [
    {
     "name": "stderr",
     "output_type": "stream",
     "text": [
      "C:\\ProgramData\\Anaconda3\\lib\\site-packages\\IPython\\core\\interactiveshell.py:3444: DtypeWarning: Columns (7) have mixed types.Specify dtype option on import or set low_memory=False.\n",
      "  exec(code_obj, self.user_global_ns, self.user_ns)\n"
     ]
    }
   ],
   "source": [
    "# Load the datasets\n",
    "\n",
    "yup = pd.read_csv(r'C:\\Users\\Brian\\Desktop\\DS Projects\\movies_sql_project\\AllMoviesDetailsCleaned.csv', sep = ';')\n",
    "\n",
    "okay = pd.read_csv(r'C:\\Users\\Brian\\Desktop\\DS Projects\\movies_sql_project\\AllMoviesCastingRaw.csv', sep = ';')"
   ]
  },
  {
   "cell_type": "code",
   "execution_count": 4,
   "id": "6428917a",
   "metadata": {},
   "outputs": [],
   "source": [
    "cols = ['ID', 'Budget', 'Genres', 'IMDB_ID', 'Original_Language',\n",
    "       'Original_Title', 'Overview', 'Popularity', 'Production_Companies',\n",
    "       'Production_Countries', 'Release_Date', 'Revenue', 'Runtime',\n",
    "       'Spoken_Languages', 'Status', 'Tagline', 'Title', 'Vote_Average',\n",
    "       'Vote_Count', 'Production_Companies_Count', 'Production_Countries_Count',\n",
    "       'Spoken_Languages_Count']\n",
    "\n",
    "yup.columns = cols"
   ]
  },
  {
   "cell_type": "code",
   "execution_count": 5,
   "id": "d35f6291",
   "metadata": {},
   "outputs": [],
   "source": [
    "# change the release_date column format\n",
    "\n",
    "yup['Release_Date'] = pd.to_datetime(yup['Release_Date'], dayfirst = True)"
   ]
  },
  {
   "cell_type": "code",
   "execution_count": 32,
   "id": "919c09a1",
   "metadata": {
    "collapsed": true
   },
   "outputs": [
    {
     "name": "stdout",
     "output_type": "stream",
     "text": [
      "3.0\n",
      "90.0\n",
      "8.0\n",
      "10.0\n",
      "2.0\n",
      "2.0\n",
      "1.0\n",
      "207.0\n",
      "1.0\n",
      "1000.0\n",
      "2\n",
      "141\n",
      "4\n",
      "44\n",
      "3.0\n",
      "16.0\n",
      "7.0\n",
      "15.0\n",
      "1.0\n",
      "954.0\n",
      "1.0\n",
      "212.0\n"
     ]
    }
   ],
   "source": [
    "# let's check the min/max lengths of the string columns in our table before limiting its sizes\n",
    "\n",
    "print(yup['Genres'].str.len().min())\n",
    "print(yup['Genres'].str.len().max())\n",
    "\n",
    "print(yup['IMDB_ID'].str.len().min())\n",
    "print(yup['IMDB_ID'].str.len().max())\n",
    "\n",
    "print(yup['Original_Language'].str.len().min())\n",
    "print(yup['Original_Language'].str.len().max())\n",
    "\n",
    "print(yup['Original_Title'].str.len().min())\n",
    "print(yup['Original_Title'].str.len().max())\n",
    "\n",
    "print(yup['Overview'].str.len().min())\n",
    "print(yup['Overview'].str.len().max())\n",
    "\n",
    "print(yup['Production_Companies'].str.len().min())\n",
    "print(yup['Production_Companies'].str.len().max())\n",
    "\n",
    "print(yup['Production_Countries'].str.len().min())\n",
    "print(yup['Production_Countries'].str.len().max())\n",
    "\n",
    "print(yup['Spoken_Languages'].str.len().min())\n",
    "print(yup['Spoken_Languages'].str.len().max())\n",
    "\n",
    "print(yup['Status'].str.len().min())\n",
    "print(yup['Status'].str.len().max())\n",
    "\n",
    "print(yup['Tagline'].str.len().min())\n",
    "print(yup['Tagline'].str.len().max())\n",
    "\n",
    "print(yup['Title'].str.len().min())\n",
    "print(yup['Title'].str.len().max())"
   ]
  },
  {
   "cell_type": "code",
   "execution_count": 12,
   "id": "4655ad9d",
   "metadata": {},
   "outputs": [],
   "source": [
    "movie_details = Table(\n",
    "    'movie_details', metadata,\n",
    "    Column(\"ID\", Integer, primary_key = True),\n",
    "    Column(\"Budget\", Integer),\n",
    "    Column(\"Genres\", String(100)),\n",
    "    Column(\"IMDB_ID\", String(12)),\n",
    "    Column(\"Original_Language\", String(2)),\n",
    "    Column(\"Original_Title\", String(210)),\n",
    "    Column(\"Overview\", String(1000)),\n",
    "    Column(\"Popularity\", Float),\n",
    "    Column(\"Production_Companies\", String(150)),\n",
    "    Column(\"Production_Countries\", String(50)),\n",
    "    Column(\"Release_Date\", Date),\n",
    "    Column(\"Revenue\", Integer),\n",
    "    Column(\"Runtime\", Float),\n",
    "    Column(\"Spoken_Languages\", String(20)),\n",
    "    Column(\"Status\", String(20)),\n",
    "    Column(\"Tagline\", String(1000)),\n",
    "    Column(\"Title\", String(250)),\n",
    "    Column(\"Vote_Average\", Float),\n",
    "    Column(\"Vote_Count\", Integer),\n",
    "    Column(\"Production_Companies_Count\", Integer),\n",
    "    Column(\"Production_Countries_Count\", Integer),\n",
    "    Column(\"Spoken_Languages_Count\", Integer),\n",
    ")\n",
    "\n",
    "movie_details.create(bind=engine)"
   ]
  },
  {
   "cell_type": "code",
   "execution_count": 16,
   "id": "71c499fb",
   "metadata": {},
   "outputs": [],
   "source": [
    "# load the movie_details dataset into MySQL database\n",
    "\n",
    "yup.to_sql('movie_details', con=engine, if_exists='append', index=False)"
   ]
  },
  {
   "cell_type": "code",
   "execution_count": 17,
   "id": "ee5de072",
   "metadata": {},
   "outputs": [],
   "source": [
    "# Load the casting dataset into the database\n",
    "\n",
    "okay.to_sql('movie_casting', con=engine, if_exists='replace', index=False)"
   ]
  },
  {
   "cell_type": "markdown",
   "id": "4b7d876f",
   "metadata": {},
   "source": [
    "# Let's answer some business questions with SQL\n"
   ]
  },
  {
   "cell_type": "code",
   "execution_count": null,
   "id": "e14cf97c",
   "metadata": {},
   "outputs": [],
   "source": [
    "# How many 'big-budget' movies are there? (> 100,000,000)\n",
    "# How many 'highly-rated' movies? (> 8.0)\n",
    "# How many movies have a low sample size of reviews? (< 20)\n",
    "# How many movies have no tagline? (Null value count)\n",
    "# How many produced in the US?\n",
    "# Let's make a continents/international column?\n",
    "# How many countries have produced movies? (distinct values)\n",
    "# 20th century vs 21st century movies\n",
    "# How many small-budget movies have more than 2-3 production companies?\n",
    "# How many movies retained their original titles? \n",
    "# average run-time\n",
    "# avg cost of movies w/ reported budgets? (>1)\n"
   ]
  },
  {
   "cell_type": "code",
   "execution_count": null,
   "id": "b2407463",
   "metadata": {},
   "outputs": [],
   "source": [
    "# How many 'big-budget' movies are there? (> 100,000,000)\n",
    "\n",
    "SELECT * FROM movie_details\n",
    "WHERE budget > 100000000;\n",
    "\n",
    "# Results in 342 records"
   ]
  },
  {
   "cell_type": "code",
   "execution_count": null,
   "id": "d5e4d976",
   "metadata": {},
   "outputs": [],
   "source": [
    "# How many 'highly-rated' movies? (> 8.0)\n",
    "\n",
    "SELECT * FROM movie_details\n",
    "WHERE vote_average > 8.0;\n",
    "\n",
    "# Results in 11,160 records"
   ]
  },
  {
   "cell_type": "code",
   "execution_count": null,
   "id": "8d4c58a2",
   "metadata": {},
   "outputs": [],
   "source": [
    "# How many movies have a low sample size of reviews? (< 20)\n",
    "\n",
    "SELECT * FROM movie_details\n",
    "WHERE vote_count < 20;\n",
    "\n",
    "# Results in 313,489 records"
   ]
  },
  {
   "cell_type": "code",
   "execution_count": null,
   "id": "f091f1ce",
   "metadata": {},
   "outputs": [],
   "source": [
    "# How many movies have no tagline? (Null value count) [276,113 hits]\n",
    "\n",
    "SELECT count(*) FROM `movie_details`\n",
    "WHERE tagline IS NULL;\n",
    "\n",
    "# Results in 276,133 records"
   ]
  },
  {
   "cell_type": "code",
   "execution_count": null,
   "id": "3f427972",
   "metadata": {},
   "outputs": [],
   "source": [
    "# How many produced in the US?\n",
    "\n",
    "#first, gotta check the distinct values under production_countries\n",
    "\n",
    "SELECT DISTINCT production_countries FROM `movie_details`;\n",
    "\n",
    "#okay, United States has two options: United States of America and United States Minor Outlying Islands\n",
    "\n",
    "SELECT count(*) FROM `movie_details` \n",
    "WHERE Production_Countries = 'United States of America' OR 'United States Minor Outlying Islands';\n",
    "\n",
    "# Results in 55,504 records"
   ]
  },
  {
   "cell_type": "code",
   "execution_count": null,
   "id": "cc3c6232",
   "metadata": {},
   "outputs": [],
   "source": [
    "# Let's make a continents/international column?\n",
    "\n",
    "ALTER TABLE `movie_details` ADD COLUMN Domestic char(3);\n",
    "\n",
    "#created, now I need to fill it with 'yes' or 'no'\n",
    "\n",
    "UPDATE `movie_details` SET Domestic = 'Yes' WHERE Production_Countries = 'United States of America' OR 'United States Outlying Islands';\n",
    "\n",
    "UPDATE `movie_details` SET Domestic = 'No' WHERE Production_Countries != 'United States of America' OR 'United States Outlying Islands';\n"
   ]
  },
  {
   "cell_type": "code",
   "execution_count": null,
   "id": "0d59ceba",
   "metadata": {},
   "outputs": [],
   "source": [
    "# How many countries have produced movies? (distinct values)\n",
    "\n",
    "SELECT COUNT(DISTINCT(Production_Countries)) FROM `movie_details`;\n",
    "\n",
    "# There are 235 different countries"
   ]
  },
  {
   "cell_type": "code",
   "execution_count": null,
   "id": "16f02ea3",
   "metadata": {},
   "outputs": [],
   "source": [
    "# how to find the next 5 oldest movies after the first 10\n",
    "\n",
    "SELECT * FROM `movie_details`\n",
    "WHERE Release_Date IS NOT NULL\n",
    "ORDER BY Release_Date\n",
    "LIMIT 5 OFFSET 10;"
   ]
  },
  {
   "cell_type": "code",
   "execution_count": null,
   "id": "50731078",
   "metadata": {},
   "outputs": [],
   "source": [
    "# How many small-budget movies have more than 2-3 production companies?\n",
    "\n",
    "SELECT count(*) FROM `movie_details`\n",
    "WHERE( \n",
    "\tbudget BETWEEN 1 AND 50000\n",
    ")\n",
    "AND\n",
    "(\n",
    "    Production_Companies_Count >= 2\n",
    ")\n",
    ";\n",
    "\n",
    "# Results in 517 records"
   ]
  },
  {
   "cell_type": "code",
   "execution_count": null,
   "id": "2a315c05",
   "metadata": {},
   "outputs": [],
   "source": [
    "# How many movies retained their original titles? \n",
    "\n",
    "SELECT count(*) FROM `movie_details`\n",
    "WHERE Original_Title = Title\n",
    ";\n",
    "\n",
    "# Results in 267,431 records"
   ]
  },
  {
   "cell_type": "code",
   "execution_count": null,
   "id": "e8e9f19a",
   "metadata": {},
   "outputs": [],
   "source": [
    "# average run-time\n",
    "\n",
    "SELECT ROUND(AVG(CAST(Runtime AS FLOAT)), 2) FROM `movie_details`;\n",
    "\n",
    "# The average is 60.41 minutes"
   ]
  },
  {
   "cell_type": "code",
   "execution_count": null,
   "id": "f9de12b3",
   "metadata": {},
   "outputs": [],
   "source": [
    "# avg cost of movies w/ reported budgets? (>1)\n",
    "\n",
    "SELECT AVG(Budget) FROM `movie_details`\n",
    "WHERE Budget >= 1;\n",
    "\n",
    "# The average is 12,779,511.82 USD"
   ]
  },
  {
   "cell_type": "code",
   "execution_count": null,
   "id": "df2409d4",
   "metadata": {},
   "outputs": [],
   "source": [
    "# who was the main actor for the biggest flop?\n",
    "\n",
    "SELECT details.Title, details.Budget, details.Revenue, details.Budget, cast.actor1_name\n",
    "FROM movie_details details\n",
    "JOIN movie_casting cast\n",
    "\ton details.ID = cast.id\n",
    "WHERE details.budget > 100000000 and details.Revenue BETWEEN 1 AND 50000000\n",
    "order by 1;"
   ]
  },
  {
   "cell_type": "code",
   "execution_count": null,
   "id": "5092a0b5",
   "metadata": {},
   "outputs": [],
   "source": [
    "# top 10 actors by appearance with a temp table / view\n",
    "\n",
    "DROP TABLE IF EXISTS actor_appearances;\n",
    "\n",
    "CREATE TABLE actor_appearances(\n",
    "    id bigint(20),\n",
    "    Title varchar(255),\n",
    "    `actor1_name` varchar(255),\n",
    "    `actor2_name` varchar(255),\n",
    "    `actor3_name` varchar(255),\n",
    "    `actor4_name` varchar(255),\n",
    "    `actor5_name` varchar(255)\n",
    ");\n",
    "\n",
    "\n",
    "INSERT INTO actor_appearances\n",
    "SELECT cast.id, details.Title, cast.actor1_name, cast.actor2_name, cast.actor3_name, cast.actor4_name, cast.actor5_name\n",
    "FROM movie_casting AS cast\n",
    "LEFT JOIN movie_details AS details\n",
    "\tON cast.id = details.ID;\n",
    "    \n",
    "SELECT actor1_name, COUNT(*) AS credits FROM actor_appearances\n",
    "WHERE actor1_name != 'None'\n",
    "GROUP BY actor1_name\n",
    "ORDER BY credits DESC LIMIT 10;"
   ]
  },
  {
   "cell_type": "markdown",
   "id": "991d9fb7",
   "metadata": {},
   "source": [
    "# Business Questions Ideas\n"
   ]
  },
  {
   "cell_type": "code",
   "execution_count": null,
   "id": "abbf13be",
   "metadata": {},
   "outputs": [],
   "source": [
    "# total number of english-speaking movies as %\n",
    "SELECT COUNT(CASE Original_Language WHEN 'en' then 1 else null end) as ENG_TOTAL, (COUNT(CASE Original_Language WHEN 'en' then 1 else null end)/COUNT(*)) * 100 as ENG_PCT\n",
    "FROM movie_details;"
   ]
  },
  {
   "cell_type": "code",
   "execution_count": null,
   "id": "48dc5999",
   "metadata": {},
   "outputs": [],
   "source": [
    "# for each country, which movie had the highest revenue after budget\n",
    "\n",
    "SELECT Production_Countries, Title, Budget, MAX(Revenue)\n",
    "FROM movie_details\n",
    "WHERE Revenue > 0 AND Budget > 0\n",
    "GROUP BY 1\n",
    "ORDER BY 4 DESC;"
   ]
  },
  {
   "cell_type": "code",
   "execution_count": null,
   "id": "939bdc59",
   "metadata": {},
   "outputs": [],
   "source": [
    "# Count for the number of boys, girls, and NTA in the first ten rows of movie_casting table\n",
    "\n",
    "WITH actor_genders AS \n",
    "(\n",
    "    SELECT id, actor1_gender, actor2_gender, actor3_gender, actor4_gender, actor5_gender\n",
    "    FROM `movie_casting`\n",
    "    WHERE actor1_name != 'None'\n",
    "    ORDER BY id\n",
    "    LIMIT 10\n",
    ")\n",
    "\n",
    "SELECT\n",
    "SUM(NTA_1 + NTA_2 + NTA_3 + NTA_4 + NTA_5) AS NTA_Total,\n",
    "SUM(Girls_1 + Girls_2 + Girls_3 + Girls_4 + Girls_5) AS Girls_Total,\n",
    "SUM(Boys_1 + Boys_2 + Boys_3 + Boys_4 + Boys_5) AS Boys_Total\n",
    "FROM\n",
    "(\n",
    "\tSELECT\n",
    "    COUNT(CASE WHEN actor1_gender = 0 THEN actor1_gender END) AS NTA_1,\n",
    "\tCOUNT(CASE WHEN actor1_gender = 1 THEN actor1_gender END) AS Girls_1,\n",
    "\tCOUNT(CASE WHEN actor1_gender = 2 THEN actor1_gender END) AS Boys_1,\n",
    "\tCOUNT(CASE WHEN actor2_gender = 0 THEN actor2_gender END) AS NTA_2,\n",
    "\tCOUNT(CASE WHEN actor2_gender = 1 THEN actor2_gender END) AS Girls_2,\n",
    "\tCOUNT(CASE WHEN actor2_gender = 2 THEN actor2_gender END) AS Boys_2,\n",
    "\tCOUNT(CASE WHEN actor3_gender = 0 THEN actor3_gender END) AS NTA_3,\n",
    "\tCOUNT(CASE WHEN actor3_gender = 1 THEN actor3_gender END) AS Girls_3,\n",
    "\tCOUNT(CASE WHEN actor3_gender = 2 THEN actor3_gender END) AS Boys_3,\n",
    "\tCOUNT(CASE WHEN actor4_gender = 0 THEN actor4_gender END) AS NTA_4,\n",
    "\tCOUNT(CASE WHEN actor4_gender = 1 THEN actor4_gender END) AS Girls_4,\n",
    "\tCOUNT(CASE WHEN actor4_gender = 2 THEN actor4_gender END) AS Boys_4,\n",
    "\tCOUNT(CASE WHEN actor5_gender = 0 THEN actor5_gender END) AS NTA_5,\n",
    "\tCOUNT(CASE WHEN actor5_gender = 1 THEN actor5_gender END) AS Girls_5,\n",
    "\tCOUNT(CASE WHEN actor5_gender = 2 THEN actor5_gender END) AS Boys_5\n",
    "\tFROM actor_genders\n",
    ") as subquery;"
   ]
  },
  {
   "cell_type": "code",
   "execution_count": null,
   "id": "37bf14f6",
   "metadata": {},
   "outputs": [],
   "source": [
    "# running count of 15 highest revenue films in France\n",
    "\n",
    "SELECT Title, Production_Countries, ID, Revenue, SUM(Revenue) OVER(ORDER BY Revenue DESC) AS Rolling_Revenue\n",
    "FROM movie_details\n",
    "WHERE Revenue > 0 and Production_Countries = 'France'\n",
    "ORDER BY 4 DESC\n",
    "LIMIT 15;"
   ]
  }
 ],
 "metadata": {
  "kernelspec": {
   "display_name": "Python 3 (ipykernel)",
   "language": "python",
   "name": "python3"
  },
  "language_info": {
   "codemirror_mode": {
    "name": "ipython",
    "version": 3
   },
   "file_extension": ".py",
   "mimetype": "text/x-python",
   "name": "python",
   "nbconvert_exporter": "python",
   "pygments_lexer": "ipython3",
   "version": "3.9.7"
  }
 },
 "nbformat": 4,
 "nbformat_minor": 5
}
